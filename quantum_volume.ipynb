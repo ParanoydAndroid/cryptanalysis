{
 "cells": [
  {
   "cell_type": "code",
   "execution_count": 90,
   "metadata": {},
   "outputs": [],
   "source": [
    "%matplotlib inline\n",
    "import qiskit.tools.jupyter\n",
    "\n",
    "from qiskit import *\n",
    "from qiskit.visualization import plot_circuit_layout, plot_gate_map\n",
    "\n",
    "\n",
    "IBMQ.load_account()\n",
    "provider = IBMQ.get_provider(hub='ibm-q-afrl')"
   ]
  },
  {
   "cell_type": "code",
   "execution_count": 83,
   "metadata": {},
   "outputs": [
    {
     "data": {
      "application/vnd.jupyter.widget-view+json": {
       "model_id": "5fb8a4ea27e14b2f88b11efe23212f10",
       "version_major": 2,
       "version_minor": 0
      },
      "text/plain": [
       "VBox(children=(HTML(value=\"<h1 style='color:#ffffff;background-color:#000000;padding-top: 1%;padding-bottom: 1…"
      ]
     },
     "metadata": {},
     "output_type": "display_data"
    },
    {
     "data": {
      "text/plain": [
       "<IBMQBackend('ibmq_poughkeepsie') from IBMQ(hub='ibm-q-afrl', group='air-force-lab', project='educational')>"
      ]
     },
     "execution_count": 83,
     "metadata": {},
     "output_type": "execute_result"
    }
   ],
   "source": [
    "backend = provider.get_backend('ibmq_poughkeepsie')"
   ]
  },
  {
   "cell_type": "code",
   "execution_count": 62,
   "metadata": {},
   "outputs": [],
   "source": [
    "# Import the quantum volume sub-module from Ignis\n",
    "import qiskit.ignis.verification.quantum_volume as qv\n",
    "import matplotlib.pyplot as plt\n",
    "import numpy as np\n",
    "\n",
    "# Also import Aer's noise model functionality to allow us to compare actual performance\n",
    "# to that expected from device 1Q and 2Q error rates\n",
    "from qiskit.providers.aer.noise.device.models import basic_device_noise_model\n",
    "from qiskit.transpiler.coupling import CouplingMap\n"
   ]
  },
  {
   "cell_type": "code",
   "execution_count": 63,
   "metadata": {},
   "outputs": [],
   "source": [
    "def find_subgraph(size: int, backend: backend) -> list:\n",
    "    \"\"\"Returns a list of integers corresponding to physical qubits forming a connected subgraph\n",
    "    \n",
    "    Args:\n",
    "        size: integer defining the number of nodes that should be in the connected subgraph\n",
    "        backend: real device backend to form the subgraph on\n",
    "        \n",
    "    Returns:\n",
    "        subgraph: list of integers, each element corresponds to one physical qubit on backend.  \n",
    "                  list size should be size.\n",
    "    \"\"\"\n",
    "    \n",
    "    import numpy as np\n",
    "    \n",
    "    \n",
    "    perm = np.random.permutation(list(range(backend.configuration().n_qubits)))\n",
    "    \n",
    "    # Setup main graph to traverse\n",
    "    c_list = backend.configuration().coupling_map\n",
    "    c_map = CouplingMap(c_list)\n",
    "    \n",
    "    while not c_map.subgraph(perm[:size]).is_connected():\n",
    "        perm = np.random.permutation(list(range(backend.configuration().n_qubits)))\n",
    "    \n",
    "    return perm[:size]\n",
    "    \n",
    "    \n",
    "    "
   ]
  },
  {
   "cell_type": "code",
   "execution_count": 64,
   "metadata": {},
   "outputs": [
    {
     "data": {
      "text/plain": [
       "array([14, 13, 12,  9,  7])"
      ]
     },
     "execution_count": 64,
     "metadata": {},
     "output_type": "execute_result"
    }
   ],
   "source": [
    "find_subgraph(5, backend)"
   ]
  },
  {
   "cell_type": "code",
   "execution_count": 65,
   "metadata": {},
   "outputs": [],
   "source": [
    "# from timeit import default_timer as timer\n",
    "\n",
    "# start = timer()\n",
    "# for _ in range(1000):\n",
    "#     find_subgraph(7, backend)\n",
    "# end = timer()\n",
    "# print((end - start)/1000) # Time in seconds, e.g. 5.38091952400282"
   ]
  },
  {
   "cell_type": "code",
   "execution_count": 66,
   "metadata": {},
   "outputs": [],
   "source": [
    "def cleanup_matrix(mx: list, norm: float) -> np.ndarray:\n",
    "    new_mx = [[int(x.real / norm) for x in row] for row in matrix]\n",
    "    \n",
    "    return np.array(new_mx)"
   ]
  },
  {
   "cell_type": "code",
   "execution_count": 93,
   "metadata": {},
   "outputs": [
    {
     "name": "stdout",
     "output_type": "stream",
     "text": [
      "[[ 1  0  0  0  0  0  0  0]\n",
      " [ 0 -1  0  0  0  0  0  0]\n",
      " [ 0  0 -1  0  0  0  0  0]\n",
      " [ 0  0  0 -1  0  0  0  0]\n",
      " [ 0  0  0  0 -1  0  0  0]\n",
      " [ 0  0  0  0  0 -1  0  0]\n",
      " [ 0  0  0  0  0  0 -1  0]\n",
      " [ 0  0  0  0  0  0  0  1]]\n"
     ]
    },
    {
     "data": {
      "image/png": "[encoded data removed]",
      "text/plain": [
       "<Figure size 397.32x204.68 with 1 Axes>"
      ]
     },
     "execution_count": 93,
     "metadata": {},
     "output_type": "execute_result"
    }
   ],
   "source": [
    "from qiskit import *\n",
    "%matplotlib inline\n",
    "q = QuantumRegister(3, 'q')\n",
    "qc = QuantumCircuit(q)\n",
    "qc.z(q)\n",
    "qc.cz(q[1],q[0])\n",
    "qc.cz(q[2],q[0])\n",
    "qc.cz(q[2],q[1])\n",
    "\n",
    "\n",
    "unitary_sim = Aer.get_backend('unitary_simulator')\n",
    "matrix = execute(qc, unitary_sim).result().get_unitary()\n",
    "print(cleanup_matrix(matrix, 1))\n",
    "\n",
    "qc.draw(output='mpl')"
   ]
  },
  {
   "cell_type": "code",
   "execution_count": null,
   "metadata": {},
   "outputs": [],
   "source": [
    "qv_test = transpile(qc, backend, initial_layout=find_subgraph(7, backend))\n",
    "plot_circuit_layout(qv_test, backend)"
   ]
  },
  {
   "cell_type": "code",
   "execution_count": null,
   "metadata": {},
   "outputs": [],
   "source": []
  }
 ],
 "metadata": {
  "kernelspec": {
   "display_name": "Python 3",
   "language": "python",
   "name": "python3"
  },
  "language_info": {
   "codemirror_mode": {
    "name": "ipython",
    "version": 3
   },
   "file_extension": ".py",
   "mimetype": "text/x-python",
   "name": "python",
   "nbconvert_exporter": "python",
   "pygments_lexer": "ipython3",
   "version": "3.7.3"
  }
 },
 "nbformat": 4,
 "nbformat_minor": 4
}
