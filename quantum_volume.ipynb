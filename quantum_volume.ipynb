{
 "cells": [
  {
   "cell_type": "code",
   "execution_count": 32,
   "metadata": {
    "jupyter": {
     "source_hidden": true
    }
   },
   "outputs": [],
   "source": [
    "%matplotlib inline\n",
    "\n",
    "import sys\n",
    "\n",
    "import math\n",
    "import matplotlib.pyplot as plt\n",
    "import numpy as np\n",
    "\n",
    "import qiskit.ignis.verification.quantum_volume as qv\n",
    "import qiskit.tools.jupyter\n",
    "from qiskit import *\n",
    "from qiskit.providers.aer.noise.device.models import basic_device_noise_model\n",
    "from qiskit.transpiler.coupling import CouplingMap\n",
    "from qiskit.visualization import plot_circuit_layout, plot_gate_map\n",
    "\n",
    "from kamaka import *"
   ]
  },
  {
   "cell_type": "code",
   "execution_count": 2,
   "metadata": {
    "jupyter": {
     "source_hidden": true
    }
   },
   "outputs": [],
   "source": [
    "np.set_printoptions(threshold=sys.maxsize)\n",
    "IBMQ.load_account()\n",
    "provider = IBMQ.get_provider(hub='ibm-q-afrl')"
   ]
  },
  {
   "cell_type": "code",
   "execution_count": 3,
   "metadata": {
    "jupyter": {
     "source_hidden": true
    }
   },
   "outputs": [],
   "source": [
    "backend = provider.get_backend('ibmq_poughkeepsie')\n",
    "unitary_sim = BasicAer.get_backend('unitary_simulator')"
   ]
  },
  {
   "cell_type": "code",
   "execution_count": 4,
   "metadata": {},
   "outputs": [],
   "source": [
    "def find_subgraph(size: int, backend: backend) -> list:\n",
    "    \"\"\"Returns a list of integers corresponding to physical qubits forming a connected subgraph\n",
    "    \n",
    "    Args:\n",
    "        size: integer defining the number of nodes that should be in the connected subgraph\n",
    "        backend: real device backend to form the subgraph on\n",
    "        \n",
    "    Returns:\n",
    "        subgraph: list of integers, each element corresponds to one physical qubit on backend.  \n",
    "                  list size should be size.\n",
    "    \"\"\"\n",
    "    \n",
    "    import numpy as np\n",
    "    \n",
    "    \n",
    "    perm = np.random.permutation(list(range(backend.configuration().n_qubits)))\n",
    "    \n",
    "    # Setup main graph to traverse\n",
    "    c_list = backend.configuration().coupling_map\n",
    "    c_map = CouplingMap(c_list)\n",
    "    \n",
    "    while not c_map.subgraph(perm[:size]).is_connected():\n",
    "        perm = np.random.permutation(list(range(backend.configuration().n_qubits)))\n",
    "    \n",
    "    return perm[:size]\n"
   ]
  },
  {
   "cell_type": "code",
   "execution_count": 5,
   "metadata": {},
   "outputs": [],
   "source": [
    "# from timeit import default_timer as timer\n",
    "\n",
    "# start = timer()\n",
    "# for _ in range(1000):\n",
    "#     find_subgraph(7, backend)\n",
    "# end = timer()\n",
    "# print((end - start)/1000) # Time in seconds, e.g. 5.38091952400282"
   ]
  },
  {
   "cell_type": "code",
   "execution_count": 6,
   "metadata": {
    "jupyter": {
     "source_hidden": true
    }
   },
   "outputs": [],
   "source": [
    "def ibm_oracle(qc: QuantumCircuit, q: QuantumRegister) -> QuantumCircuit:\n",
    "    qc.z(q)\n",
    "    qc.cz(q[1],q[0])\n",
    "    qc.cz(q[2],q[0])\n",
    "    qc.cz(q[2],q[1])\n",
    "    \n",
    "    return qc\n",
    "\n",
    "def two_oracle(qc: QuantumCircuit, q: QuantumRegister, winner: int)\\\n",
    "                                                -> QuantumCircuit:\n",
    "    if winner == 0: \n",
    "        qc.ccx(q[0], q[1], q[2])\n",
    "    elif winner == 1:\n",
    "        qc.x(q[1])\n",
    "        qc.ccx(q[0], q[1], q[2])\n",
    "        qc.x(q[1])\n",
    "    elif winner == 2:\n",
    "        qc.x(q[0])\n",
    "        qc.ccx(q[0], q[1], q[2])\n",
    "        qc.x(q[0])\n",
    "    elif winner == 3:\n",
    "        qc.x(q[:-1])\n",
    "        qc.ccx(q[0], q[1], q[2])\n",
    "        qc.x(q[:-1])\n",
    "    else:\n",
    "        raise ValueError('Winner must be in range(4)')\n",
    "    \n",
    "    return qc\n",
    "\n",
    "def three_oracle(qc: QuantumCircuit, q: QuantumRegister, winner: int)\\\n",
    "                                                -> QuantumCircuit:\n",
    "    \n",
    "    # q[3] is our work space\n",
    "    if winner == 0: \n",
    "        qc.ccx(q[0], q[1], q[3])\n",
    "    elif winner == 1:\n",
    "        qc.x(q[1])\n",
    "        qc.ccx(q[0], q[1], q[2])\n",
    "        qc.x(q[1])\n",
    "    elif winner == 2:\n",
    "        qc.x(q[0])\n",
    "        qc.ccx(q[0], q[1], q[2])\n",
    "        qc.x(q[0])\n",
    "    elif winner == 3:\n",
    "        qc.x(q[:-1])\n",
    "        qc.ccx(q[0], q[1], q[2])\n",
    "        qc.x(q[:-1])\n",
    "    else:\n",
    "        raise ValueError('Winner must be in range(4)')\n",
    "    \n",
    "    return qc\n",
    "\n",
    "def zero_inversion(qc: QuantumCircuit, q: QuantumRegister) -> QuantumCircuit:\n",
    "    qc.x(q[:2])\n",
    "    qc.cz(q[0], q[1])\n",
    "    qc.barrier()\n",
    "    qc.x(q[:2])\n",
    "    \n",
    "    return qc"
   ]
  },
  {
   "cell_type": "code",
   "execution_count": 320,
   "metadata": {},
   "outputs": [],
   "source": [
    "def add_oracleA(state: str, qc: QuantumCircuit, qr: QuantumRegister=None, wr: QuantumRegister=None) -> QuantumCircuit:\n",
    "    \"\"\"Add an ancillary oracle to a quantum circuit with the form -1^f(x) * |x>\n",
    "    \n",
    "    Params:\n",
    "        state: string containing the integer representation of the state for which f(x) should return 1\n",
    "        qc: QuantumCircuit onto which to add the oracle\n",
    "        qr: QuantumRegister holding the primary computation.  Defaults to the first register in qc\n",
    "        wr: Ancillary QuantumRegister holding the multi-control ancillary bits and oracle ancillary bit\n",
    "            len(wr) must be at least len(qr).  Defaults to the second register in qc.\n",
    "    \n",
    "    Returns:\n",
    "        QuantumCircuit containing the oracle\n",
    "    \n",
    "    \"\"\"\n",
    "    \n",
    "    # TODO Change state param to accept a list of acceptable states\n",
    "    \n",
    "    qr = qr if qr is not None else qc.qregs[0]\n",
    "    try:\n",
    "        wr = wr if wr is not None else qc.qregs[1]\n",
    "    except IndexError:\n",
    "        raise IndexError(f'The circuit provided must have at least 2 quantum registers. Currently has {len(qc.qregs)}') from None\n",
    "    \n",
    "    if len(qr) > len(wr): raise IndexError('Work register must be the same size as the primary register or larger')\n",
    "    \n",
    "    binary_expansion = f'{state:b}'\n",
    "    if len(binary_expansion) > len(qr): raise IndexError(f'log({state}) is not less than {len(qr)}.')\n",
    "    \n",
    "    # NOT the wires where the magic state bit should be 0\n",
    "    for i in range(len(qr)):\n",
    "        if not state & (1 << i): # i.e. tharr be zeroes in this here bitstring position\n",
    "            qc.x(qr[i])\n",
    "    \n",
    "    # Establish the necessary oracle state to get the phase in the main register.\n",
    "    # We use a |1> instead of a |-> gate because we use a Z gate to actually mark our state, and X (Z) X = XH (X) HX\n",
    "    qc.x(wr[0])\n",
    "        \n",
    "    # Our multi-control z gate assumes the entire work register is available for ancillas and that we want our target at qr[-1]\n",
    "    # So we create some fake registers constructed so we can use this function by swapping our true target qubit into the primary register\n",
    "    qr._bits.append(wr[0])\n",
    "    qr.size += 1\n",
    "    \n",
    "    wr._bits = wr._bits[1:]\n",
    "    wr.size -= 1\n",
    "    \n",
    "    # Add the actual oracle function by doing a controlled Z across the wires representing the input bitstring\n",
    "    rncz(len(qr)-1, qc)\n",
    "    \n",
    "    # Now we undo the register changes\n",
    "    wr._bits.insert(0, qr[-1])\n",
    "    wr.size += 1\n",
    "    \n",
    "    qr._bits = qr._bits[:-1]\n",
    "    qr.size -= 1\n",
    "    \n",
    "    # Undo the state preparation on the oracle bit\n",
    "    qc.x(wr[0])\n",
    "    \n",
    "    # Undo the NOT on wires where the magic state bits should be 0\n",
    "    for i in range(len(qr)):\n",
    "        if not state & (1 << i):\n",
    "            qc.x(qr[i])"
   ]
  },
  {
   "cell_type": "code",
   "execution_count": 288,
   "metadata": {
    "collapsed": true,
    "jupyter": {
     "outputs_hidden": true
    }
   },
   "outputs": [
    {
     "data": {
      "image/png": "[encoded data removed]",
      "text/plain": [
       "<Figure size 1661.52x1589.28 with 1 Axes>"
      ]
     },
     "execution_count": 288,
     "metadata": {},
     "output_type": "execute_result"
    }
   ],
   "source": [
    "# Testing the oracle creator\n",
    "circuit_size = 4\n",
    "qr, qc = refresh(circuit_size)\n",
    "wr = QuantumRegister(circuit_size, 'w')\n",
    "qc.add_register(wr)\n",
    "\n",
    "add_oracleA(11, qc)\n",
    "\n",
    "qc.draw(output='mpl')"
   ]
  },
  {
   "cell_type": "code",
   "execution_count": 289,
   "metadata": {
    "collapsed": true,
    "jupyter": {
     "outputs_hidden": true
    }
   },
   "outputs": [
    {
     "name": "stdout",
     "output_type": "stream",
     "text": [
      "[[ 1  0  0  0  0  0  0  0  0  0  0  0  0  0  0  0]\n",
      " [ 0  1  0  0  0  0  0  0  0  0  0  0  0  0  0  0]\n",
      " [ 0  0  1  0  0  0  0  0  0  0  0  0  0  0  0  0]\n",
      " [ 0  0  0  1  0  0  0  0  0  0  0  0  0  0  0  0]\n",
      " [ 0  0  0  0  1  0  0  0  0  0  0  0  0  0  0  0]\n",
      " [ 0  0  0  0  0  1  0  0  0  0  0  0  0  0  0  0]\n",
      " [ 0  0  0  0  0  0  1  0  0  0  0  0  0  0  0  0]\n",
      " [ 0  0  0  0  0  0  0  1  0  0  0  0  0  0  0  0]\n",
      " [ 0  0  0  0  0  0  0  0  1  0  0  0  0  0  0  0]\n",
      " [ 0  0  0  0  0  0  0  0  0  1  0  0  0  0  0  0]\n",
      " [ 0  0  0  0  0  0  0  0  0  0  1  0  0  0  0  0]\n",
      " [ 0  0  0  0  0  0  0  0  0  0  0 -1  0  0  0  0]\n",
      " [ 0  0  0  0  0  0  0  0  0  0  0  0  1  0  0  0]\n",
      " [ 0  0  0  0  0  0  0  0  0  0  0  0  0  1  0  0]\n",
      " [ 0  0  0  0  0  0  0  0  0  0  0  0  0  0  1  0]\n",
      " [ 0  0  0  0  0  0  0  0  0  0  0  0  0  0  0  1]\n",
      "]\n",
      "\n"
     ]
    }
   ],
   "source": [
    "matrix = execute(qc, unitary_sim).result().get_unitary()\n",
    "print(cleanup_matrix(trim_matrix(matrix, 2**circuit_size), 1))"
   ]
  },
  {
   "cell_type": "code",
   "execution_count": 290,
   "metadata": {},
   "outputs": [
    {
     "name": "stdout",
     "output_type": "stream",
     "text": [
      "39\n"
     ]
    }
   ],
   "source": [
    "print(qc.depth())"
   ]
  },
  {
   "cell_type": "code",
   "execution_count": 8,
   "metadata": {
    "collapsed": true,
    "jupyter": {
     "outputs_hidden": true
    }
   },
   "outputs": [
    {
     "data": {
      "image/png": "[encoded data removed]",
      "text/plain": [
       "<Figure size 457.52x144.48 with 1 Axes>"
      ]
     },
     "execution_count": 8,
     "metadata": {},
     "output_type": "execute_result"
    }
   ],
   "source": [
    "# Testing the inversion about the average\n",
    "\n",
    "qc_average = QuantumCircuit(2, name='test')\n",
    "\n",
    "qc_average.h(qc_average.qregs[0])\n",
    "qc_average = zero_inversion(qc_average, qc_average.qregs[0])\n",
    "qc_average.h(qc_average.qregs[0])\n",
    "\n",
    "qc_average.draw(output='mpl', plot_barriers=False)"
   ]
  },
  {
   "cell_type": "code",
   "execution_count": 9,
   "metadata": {
    "collapsed": true,
    "jupyter": {
     "outputs_hidden": true
    }
   },
   "outputs": [
    {
     "name": "stdout",
     "output_type": "stream",
     "text": [
      "[[ 0 -1 -1 -1]\n",
      " [-1  1 -1  0]\n",
      " [-1 -1  1 -1]\n",
      " [-1 -1 -1  1]\n",
      "]\n",
      "\n"
     ]
    }
   ],
   "source": [
    "matrix = execute(qc_average, unitary_sim).result().get_unitary()\n",
    "print(cleanup_matrix(matrix, .5))"
   ]
  },
  {
   "cell_type": "code",
   "execution_count": 308,
   "metadata": {},
   "outputs": [],
   "source": [
    "def ncz(num_controls: int, qc: QuantumCircuit, qr: QuantumRegister=None, wr: QuantumRegister=None, uncompute: bool=True) -> QuantumCircuit:\n",
    "    \"\"\" Constructs an n-controlled z gate on a quantum circuit.  Assumes qr[-1] is the target and qr[:-1] are controls.\n",
    "    \n",
    "    Params:\n",
    "        qc: The quantum circuit to operate on\n",
    "        qr: The quantum register holding the n control and 1 target bits. Defaults to the first quantum register in qc\n",
    "        wr: The quantum register holding the working bits required.  Must be >= size(len(qr)-3). \n",
    "            Defaults to the second quantum register in qc\n",
    "        n: The number of control bits to implement\n",
    "        uncompute: If True, then all computations except the target gate are repeated in reverse order.  Defaults True.\n",
    "        \n",
    "    Returns:\n",
    "        QuantumCircuit with gates in place.\n",
    "        \n",
    "    \"\"\"\n",
    "    \n",
    "    qr = qr if qr is not None else qc.qregs[0]\n",
    "    try:\n",
    "        wr = wr if wr is not None else qc.qregs[1]\n",
    "    except IndexError:\n",
    "        raise IndexError(f'The circuit provided must have at least 2 quantum registers. Currently has {len(qc.qregs)}') from None\n",
    "    \n",
    "    if num_controls - 3 > len(wr): raise IndexError('Work register must have at least num_controls-3 qubits')\n",
    "    if len(qr) - 1 != num_controls: raise IndexError('qr must have exactly num_controls+1 qubits')\n",
    "    \n",
    "    n = num_controls\n",
    "    \n",
    "    # Phase 1: initial toffoli\n",
    "    qc.ccx(qr[0], qr[1], wr[0])\n",
    "    \n",
    "    # Phase 2: Toffoli descent\n",
    "    for i in range(n-3):\n",
    "        qc.ccx(wr[i], qr[i+2], wr[i+1])\n",
    "    \n",
    "    # Phase 3: Phase gate\n",
    "    qc.h(qr[n])\n",
    "    qc.ccx(wr[n-3], qr[n-1], qr[n])\n",
    "    qc.h(qr[n])\n",
    "    \n",
    "    # Phase 4: Toffoli ascent\n",
    "    if uncompute:\n",
    "        for i in range(n-4, -1, -1):\n",
    "            qc.ccx(wr[i], qr[i+2], wr[i+1])\n",
    "\n",
    "        qc.ccx(qr[0], qr[1], wr[0])\n",
    "    \n",
    "    return qc"
   ]
  },
  {
   "cell_type": "code",
   "execution_count": 309,
   "metadata": {},
   "outputs": [],
   "source": [
    "def rncz(num_controls: int, qc: QuantumCircuit, qr: QuantumRegister=None, wr: QuantumRegister=None, uncompute: bool=True) -> QuantumCircuit:\n",
    "    \"\"\" Constructs an n-controlled z gate on a quantum circuit.  Assumes qr[-1] is the target and qr[:-1] are controls.  Uses\n",
    "        a simpler construction that can introduce relative phases if not uncomputed.\n",
    "    \n",
    "    Params:\n",
    "        qc: The quantum circuit to operate on\n",
    "        qr: The quantum register holding the n control and 1 target bits. Defaults to the first quantum register in qc\n",
    "        wr: The quantum register holding the working bits required.  Must be >= size(len(qr)-2). \n",
    "            Defaults to the second quantum register in qc\n",
    "        n: The number of control bits to implement\n",
    "        uncompute: If True, then all computations except the target gate are repeated in reverse order.  Defaults True.\n",
    "        \n",
    "    Returns:\n",
    "        QuantumCircuit with gates in place.\n",
    "        \n",
    "    \"\"\"\n",
    "    \n",
    "    qr = qr if qr is not None else qc.qregs[0]\n",
    "    try:\n",
    "        wr = wr if wr is not None else qc.qregs[1]\n",
    "    except IndexError:\n",
    "        raise IndexError(f'The circuit provided must have at least 2 quantum registers. Currently has {len(qc.qregs)}') from None\n",
    "    if num_controls - 2 > len(wr): raise IndexError('Work register must have at least num_controls-2 qubits')\n",
    "    if len(qr) - 1 != num_controls: raise IndexError('qr must have exactly num_controls+1 qubits')\n",
    "    \n",
    "    n = num_controls\n",
    "    \n",
    "    # Phase 1: initial toffoli\n",
    "    qc.rccx(qr[0], qr[1], wr[0])\n",
    "    \n",
    "    # Phase 2: Toffoli descent\n",
    "    for i in range(n-2):\n",
    "        qc.rccx(wr[i], qr[i+2], wr[i+1])\n",
    "    \n",
    "    # Phase 3: Phase gate\n",
    "    qc.h(qr[n])\n",
    "    qc.cx(wr[n-2], qr[n])\n",
    "    qc.h(qr[n])\n",
    "    \n",
    "    # Phase 4: Toffoli ascent\n",
    "    if uncompute:\n",
    "        for i in range(n-3, -1, -1):\n",
    "            qc.rccx(wr[i], qr[i+2], wr[i+1])\n",
    "\n",
    "        qc.rccx(qr[0], qr[1], wr[0])\n",
    "    \n",
    "    return qc"
   ]
  },
  {
   "cell_type": "code",
   "execution_count": 325,
   "metadata": {},
   "outputs": [],
   "source": [
    "# Circuit depth comparison for the various ways to decompose a multi-control phase gate\n",
    "\n",
    "# First, we generate one of each type: toffoli, phased toffoli, and aqua:\n",
    "def make_ncz(CIRCUIT_SIZE: int, uncompute: bool=True) -> QuantumCircuit:\n",
    "    qr, qc = refresh(CIRCUIT_SIZE)\n",
    "    wr = QuantumRegister(CIRCUIT_SIZE-3, 'w')\n",
    "    qc.add_register(wr)\n",
    "\n",
    "    return ncz(CIRCUIT_SIZE-1, qc, uncompute=uncompute)"
   ]
  },
  {
   "cell_type": "code",
   "execution_count": 326,
   "metadata": {},
   "outputs": [],
   "source": [
    "def make_rncz(CIRCUIT_SIZE: int, uncompute: bool=True) -> QuantumCircuit:    \n",
    "    qr, qc = refresh(CIRCUIT_SIZE)\n",
    "    wr = QuantumRegister(CIRCUIT_SIZE-2, 'w')\n",
    "    qc.add_register(wr)\n",
    "\n",
    "    return rncz(CIRCUIT_SIZE-1, qc, uncompute=uncompute)"
   ]
  },
  {
   "cell_type": "code",
   "execution_count": 319,
   "metadata": {},
   "outputs": [],
   "source": [
    "def make_aqua(CIRCUIT_SIZE: int) -> QuantumCircuit:\n",
    "    qr, qc = refresh(CIRCUIT_SIZE)\n",
    "    qc.mcrz(math.pi, qr[:-1], qr[-1])\n",
    "    \n",
    "    return qc"
   ]
  },
  {
   "cell_type": "code",
   "execution_count": 313,
   "metadata": {},
   "outputs": [],
   "source": [
    "# # Test make_rncz()\n",
    "# CIRCUIT_SIZE = 4\n",
    "\n",
    "# circ = make_rcnz(CIRCUIT_SIZE, False)\n",
    "# matrix = execute(circ, unitary_sim).result().get_unitary()"
   ]
  },
  {
   "cell_type": "code",
   "execution_count": 314,
   "metadata": {},
   "outputs": [],
   "source": [
    "# circ.draw(output='mpl')"
   ]
  },
  {
   "cell_type": "code",
   "execution_count": 315,
   "metadata": {},
   "outputs": [],
   "source": [
    "# print(cleanup_matrix(matrix, 1))"
   ]
  },
  {
   "cell_type": "code",
   "execution_count": 335,
   "metadata": {},
   "outputs": [
    {
     "name": "stdout",
     "output_type": "stream",
     "text": [
      "                                                      Circuit Depth for an n-controlled gate, by construction method                                                      \n",
      "\n",
      "\n",
      "Circ type / n=     3           4           5           6           7           8           9           10          11          12          13          14      Avg Growth \n",
      "\n",
      "     ncz        29/1.00x    47/1.62x    65/1.38x    83/1.28x   101/1.22x   119/1.18x   137/1.15x   155/1.13x   173/1.12x   191/1.10x   209/1.09x   227/1.09x    1.086124  \n",
      "     rncz       29/1.00x    39/1.34x    49/1.26x    59/1.20x    69/1.17x    79/1.14x    89/1.13x    99/1.11x   109/1.10x   119/1.09x   129/1.08x   139/1.08x    1.077519  \n",
      "     aqua       35/1.00x    75/2.14x   155/2.07x   315/2.03x   635/2.02x   1275/2.01x  2555/2.00x  5115/2.00x 10235/2.00x 20475/2.00x 40955/2.00x 81915/2.00x   2.000122  \n",
      " ncz garbage    18/1.00x    25/1.39x    32/1.28x    39/1.22x    46/1.18x    53/1.15x    60/1.13x    67/1.12x    74/1.10x    81/1.09x    88/1.09x    95/1.08x    1.079545  \n"
     ]
    }
   ],
   "source": [
    "# Script to compare depths at different circuit sizes\n",
    "\n",
    "def print_results(results: dict, circuit_sizes: list) -> None:\n",
    "    # Print header\n",
    "    table_width = 12 * (2 + len(circuit_sizes)) + 2\n",
    "    print(f'{\"Circuit Depth for an n-controlled gate, by construction method\":^{table_width}}\\n\\n')\n",
    "    print(f'{\"Circ type / n=\":<14}', end='')\n",
    "    \n",
    "    for size in circuit_sizes:\n",
    "        print(f'{str(size-1):^12}', end='')\n",
    "    \n",
    "    print(f'{\"Avg Growth\":^12}', end='')\n",
    "    print('\\n')\n",
    "    \n",
    "    # Data\n",
    "    for k in results.keys():\n",
    "        print(f'{k:^14s}', end='')\n",
    "        \n",
    "        for idx, result in enumerate(results[k]):\n",
    "            ratios = []\n",
    "            if idx > 0:\n",
    "                ratio = result/results[k][idx-1]\n",
    "                ratios.append(ratio)\n",
    "                print(f'{str(result) + \"/\" + f\"{ratio:1.2f}\" + \"x\":^12}', end='')\n",
    "            else: print(f'{str(result) + \"/1.00x\":^12s}', end='')\n",
    "        \n",
    "        print(f'{sum(ratios)/len(ratios):^12f}')\n",
    "\n",
    "    return\n",
    "\n",
    "def get_depth_data() -> None:\n",
    "    # Generate data\n",
    "    circuit_sizes = [x for x in range(4, 16)]\n",
    "    circuit_types = ['ncz', 'rncz', 'aqua', 'ncz garbage']\n",
    "    results = {t:[] for t in circuit_types}\n",
    "\n",
    "\n",
    "    for size in circuit_sizes:\n",
    "        circuits = []\n",
    "\n",
    "        # We have to make sure to generate circuits in the same order as circuit_types\n",
    "        circuits.append(make_ncz(size))\n",
    "        circuits.append(make_rncz(size))\n",
    "        circuits.append(make_aqua(size))\n",
    "        circuits.append(make_ncz(size, False))\n",
    "\n",
    "        for idx, t in enumerate(circuit_types):\n",
    "            results[t].append(circuits[idx].decompose().decompose().depth())\n",
    "\n",
    "    print_results(results, circuit_sizes)\n",
    "\n",
    "get_depth_data()"
   ]
  },
  {
   "cell_type": "code",
   "execution_count": null,
   "metadata": {},
   "outputs": [],
   "source": []
  }
 ],
 "metadata": {
  "kernelspec": {
   "display_name": "Python 3",
   "language": "python",
   "name": "python3"
  },
  "language_info": {
   "codemirror_mode": {
    "name": "ipython",
    "version": 3
   },
   "file_extension": ".py",
   "mimetype": "text/x-python",
   "name": "python",
   "nbconvert_exporter": "python",
   "pygments_lexer": "ipython3",
   "version": "3.7.3"
  }
 },
 "nbformat": 4,
 "nbformat_minor": 4
}
